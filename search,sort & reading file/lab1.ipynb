{
 "cells": [
  {
   "cell_type": "code",
   "execution_count": 1,
   "metadata": {},
   "outputs": [
    {
     "name": "stdout",
     "output_type": "stream",
     "text": [
      "Supreetha G S\n"
     ]
    }
   ],
   "source": [
    "#print name\n",
    "print('Supreetha G S')"
   ]
  },
  {
   "cell_type": "code",
   "execution_count": 2,
   "metadata": {},
   "outputs": [
    {
     "name": "stdout",
     "output_type": "stream",
     "text": [
      "First number3\n",
      "Second number6\n",
      "Sum:  9\n"
     ]
    }
   ],
   "source": [
    "#addition of numbers\n",
    "a=int(input('First number'))\n",
    "b=int(input('Second number'))\n",
    "print('Sum: ',(a+b))"
   ]
  },
  {
   "cell_type": "code",
   "execution_count": 5,
   "metadata": {},
   "outputs": [
    {
     "name": "stdout",
     "output_type": "stream",
     "text": [
      "Number of elememts2\n",
      "112\n",
      "54\n",
      "Enter the key:54\n",
      "Element found at  1\n"
     ]
    }
   ],
   "source": [
    "#linear search\n",
    "arr=[]\n",
    "n=int(input('Number of elememts'))\n",
    "for i in range(0,n):\n",
    "    ele=int(input());\n",
    "    arr.append(ele);\n",
    "key=int(input('Enter the key:'))\n",
    "for i in range(0,n):\n",
    "    if(arr[i]==key):\n",
    "        print('Element found at ',i)\n",
    "        break"
   ]
  },
  {
   "cell_type": "code",
   "execution_count": 21,
   "metadata": {},
   "outputs": [
    {
     "name": "stdout",
     "output_type": "stream",
     "text": [
      "Number of elememts4\n",
      "1\n",
      "2\n",
      "3\n",
      "4\n",
      "Enter the key:4\n",
      "Element found at position 3\n"
     ]
    }
   ],
   "source": [
    "#binary search\n",
    "def bsearch(arr,key,low,high):\n",
    "    mid=(int)((low+high)/2)\n",
    "    if(low<high):\n",
    "        if(arr[mid]==key):\n",
    "            print(\"Element found at position\",mid)\n",
    "        elif(key<arr[mid]):\n",
    "            bsearch(arr,key,low,mid-1)\n",
    "        elif(key>arr[mid]):\n",
    "            bsearch(arr,key,mid+1,high)\n",
    "    else:\n",
    "        print(\"Not found\")\n",
    "        \n",
    "arr=[]\n",
    "n=int(input('Number of elememts'))\n",
    "for i in range(0,n):\n",
    "    ele=int(input());\n",
    "    arr.append(ele);\n",
    "key=int(input('Enter the key:'))\n",
    "low=0\n",
    "high=n\n",
    "bsearch(arr,key,low,high)"
   ]
  },
  {
   "cell_type": "code",
   "execution_count": 22,
   "metadata": {},
   "outputs": [
    {
     "name": "stdout",
     "output_type": "stream",
     "text": [
      "Number of elememts4\n",
      "3\n",
      "2\n",
      "1\n",
      "4\n",
      "[1, 2, 3, 4]\n"
     ]
    }
   ],
   "source": [
    "#bubble sort\n",
    "arr=[]\n",
    "n=int(input('Number of elememts'))\n",
    "for i in range(0,n):\n",
    "    ele=int(input());\n",
    "    arr.append(ele);\n",
    "for i in range(0,n):\n",
    "    ele=arr[i]\n",
    "    for j in range(i+1,n):\n",
    "        if(arr[j]<ele):\n",
    "            temp=arr[i]\n",
    "            arr[i]=arr[j]\n",
    "            arr[j]=temp\n",
    "print(arr)"
   ]
  },
  {
   "cell_type": "code",
   "execution_count": 24,
   "metadata": {},
   "outputs": [
    {
     "name": "stdout",
     "output_type": "stream",
     "text": [
      "Number of elememts3\n",
      "6\n",
      "4\n",
      "2\n",
      "[2, 4, 6]\n"
     ]
    }
   ],
   "source": [
    "#insertion sort\n",
    "arr=[]\n",
    "n=int(input('Number of elememts'))\n",
    "for i in range(0,n):\n",
    "    ele=int(input());\n",
    "    arr.append(ele);\n",
    "for i in range(0,n):\n",
    "    pos=i\n",
    "    for j in range(i+1,n):\n",
    "        if(arr[j]<arr[pos]):\n",
    "            pos=j\n",
    "    temp=arr[i]\n",
    "    arr[i]=arr[pos]\n",
    "    arr[pos]=temp\n",
    "print(arr)"
   ]
  },
  {
   "cell_type": "code",
   "execution_count": 25,
   "metadata": {},
   "outputs": [
    {
     "data": {
      "text/plain": [
       "['hey supreethaaaaaaaaaaaaaaaa\\n']"
      ]
     },
     "execution_count": 25,
     "metadata": {},
     "output_type": "execute_result"
    }
   ],
   "source": [
    "#read text from a file\n",
    "file=open(\"/home/dslab/Documents/1nt19is166/file.txt\",\"r\")\n",
    "file.readlines()"
   ]
  },
  {
   "cell_type": "code",
   "execution_count": null,
   "metadata": {},
   "outputs": [],
   "source": []
  }
 ],
 "metadata": {
  "kernelspec": {
   "display_name": "Python 3",
   "language": "python",
   "name": "python3"
  },
  "language_info": {
   "codemirror_mode": {
    "name": "ipython",
    "version": 3
   },
   "file_extension": ".py",
   "mimetype": "text/x-python",
   "name": "python",
   "nbconvert_exporter": "python",
   "pygments_lexer": "ipython3",
   "version": "3.7.3"
  }
 },
 "nbformat": 4,
 "nbformat_minor": 2
}
